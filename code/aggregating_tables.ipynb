{
 "cells": [
  {
   "cell_type": "code",
   "execution_count": 1,
   "metadata": {},
   "outputs": [],
   "source": [
    "import numpy as np\n",
    "import pandas as pd\n",
    "import os\n",
    "import sklearn.metrics\n",
    "import matplotlib.pyplot as plt\n",
    "import seaborn as sns\n",
    "import math as mt\n",
    "import re\n",
    "from os.path import dirname"
   ]
  },
  {
   "cell_type": "code",
   "execution_count": 2,
   "metadata": {},
   "outputs": [],
   "source": [
    "curr_path = dirname(os.getcwd())\n",
    "table_path = curr_path + '/clean_data'"
   ]
  },
  {
   "cell_type": "code",
   "execution_count": 3,
   "metadata": {},
   "outputs": [
    {
     "data": {
      "text/plain": [
       "['/Users/JaredGutierrez/Desktop/CS162/DataX/studentStress/studentstress/clean_data/vr_12_CLEAN.csv',\n",
       " '/Users/JaredGutierrez/Desktop/CS162/DataX/studentStress/studentstress/clean_data/perceived_stress_CLEAN.csv',\n",
       " '/Users/JaredGutierrez/Desktop/CS162/DataX/studentStress/studentstress/clean_data/piazza_CLEAN.csv',\n",
       " '/Users/JaredGutierrez/Desktop/CS162/DataX/studentStress/studentstress/clean_data/big_five_CLEAN.csv',\n",
       " '/Users/JaredGutierrez/Desktop/CS162/DataX/studentStress/studentstress/clean_data/loneliness_scale_CLEAN.csv',\n",
       " '/Users/JaredGutierrez/Desktop/CS162/DataX/studentStress/studentstress/clean_data/psqi_CLEAN.csv',\n",
       " '/Users/JaredGutierrez/Desktop/CS162/DataX/studentStress/studentstress/clean_data/grades_CLEAN.csv',\n",
       " '/Users/JaredGutierrez/Desktop/CS162/DataX/studentStress/studentstress/clean_data/panas_CLEAN.csv',\n",
       " '/Users/JaredGutierrez/Desktop/CS162/DataX/studentStress/studentstress/clean_data/deadlines_CLEAN.csv',\n",
       " '/Users/JaredGutierrez/Desktop/CS162/DataX/studentStress/studentstress/clean_data/flourishing_scale_CLEAN.csv',\n",
       " '/Users/JaredGutierrez/Desktop/CS162/DataX/studentStress/studentstress/clean_data/phq_9_CLEAN.csv']"
      ]
     },
     "execution_count": 3,
     "metadata": {},
     "output_type": "execute_result"
    }
   ],
   "source": [
    "file_list = os.listdir(table_path)\n",
    "file_list = [table_path + '/' + i for i in file_list]\n",
    "file_list"
   ]
  },
  {
   "cell_type": "code",
   "execution_count": 29,
   "metadata": {},
   "outputs": [],
   "source": [
    "deadlines_df = pd.read_csv(file_list[1], index_col=0)\n",
    "flourishing_df = pd.read_csv(file_list[2], index_col = 0)\n",
    "grades_df = pd.read_csv(file_list[3], index_col = 0)\n",
    "loneliness_df = pd.read_csv(file_list[4], index_col = 0)\n",
    "panas_df = pd.read_csv(file_list[5], index_col = 0)\n",
    "stress_df = pd.read_csv(file_list[6], index_col = 0)\n",
    "phq_9 = pd.read_csv(file_list[7], index_col = 0)\n",
    "piazza_df = pd.read_csv(file_list[8], index_col = 0)\n",
    "psqi_df = pd.read_csv(file_list[9], index_col = 0)\n",
    "vr_12_df = pd.read_csv(file_list[10], index_col = 0)\n",
    "big_5_df = pd.read_csv(file_list[0], index_col = 0)"
   ]
  },
  {
   "cell_type": "markdown",
   "metadata": {},
   "source": [
    "With this function we are going to be merging based on uid on their perspective before and after taking the exam.\n",
    "We take the difference in their moods. If the difference for one student over the past year is negative, then their outlook on themselves has changed toward a more pessimistic side. On the other hand, if the difference between post and pre values is positive, this indicates that their outlook is more positive than it was initially"
   ]
  },
  {
   "cell_type": "code",
   "execution_count": 30,
   "metadata": {},
   "outputs": [],
   "source": [
    "#split the data\n",
    "def merge_by_uid(dataset):\n",
    "    uids = []\n",
    "    difference_over_quarter = []\n",
    "    big_five_pre = dataset[dataset[\"type\"] == \"pre\"]\n",
    "    big_five_post = dataset[dataset[\"type\"] == \"post\"]\n",
    "    concat_big_five = dataset.iloc[990:]\n",
    "    for i in range(60):\n",
    "        if len(str(i)) == 1:\n",
    "            uid = \"u0\" + str(i)\n",
    "        else:\n",
    "            uid = \"u\" + str(i)\n",
    "        try:\n",
    "            pre_row_by_uid = big_five_pre.loc[uid].tolist()\n",
    "            post_row_by_uid = big_five_post.loc[uid].tolist()\n",
    "\n",
    "            difference = 0\n",
    "            for i in range(len(pre_row_by_uid)):\n",
    "                if not isinstance(pre_row_by_uid[i],str):\n",
    "                    difference += post_row_by_uid[i]-pre_row_by_uid[i]\n",
    "            difference_over_quarter.append(difference)\n",
    "            uids.append(uid)\n",
    "        except:\n",
    "#             print(\"no two reportings for uid\" + str(uid))\n",
    "            uids.append(uid)\n",
    "            difference_over_quarter.append(None)\n",
    "            pass\n",
    "\n",
    "\n",
    "    return pd.DataFrame({'uid':uids, 'Difference_over_quarter':difference_over_quarter})            "
   ]
  },
  {
   "cell_type": "code",
   "execution_count": 31,
   "metadata": {},
   "outputs": [],
   "source": [
    "big_5_df_to_merge = big_5_df.set_index(\"uid\")"
   ]
  },
  {
   "cell_type": "code",
   "execution_count": 44,
   "metadata": {},
   "outputs": [
    {
     "data": {
      "text/html": [
       "<div>\n",
       "<style scoped>\n",
       "    .dataframe tbody tr th:only-of-type {\n",
       "        vertical-align: middle;\n",
       "    }\n",
       "\n",
       "    .dataframe tbody tr th {\n",
       "        vertical-align: top;\n",
       "    }\n",
       "\n",
       "    .dataframe thead th {\n",
       "        text-align: right;\n",
       "    }\n",
       "</style>\n",
       "<table border=\"1\" class=\"dataframe\">\n",
       "  <thead>\n",
       "    <tr style=\"text-align: right;\">\n",
       "      <th></th>\n",
       "      <th>uid</th>\n",
       "      <th>Difference_over_quarter</th>\n",
       "    </tr>\n",
       "  </thead>\n",
       "  <tbody>\n",
       "    <tr>\n",
       "      <th>0</th>\n",
       "      <td>u00</td>\n",
       "      <td>1.0</td>\n",
       "    </tr>\n",
       "    <tr>\n",
       "      <th>1</th>\n",
       "      <td>u01</td>\n",
       "      <td>-2.0</td>\n",
       "    </tr>\n",
       "    <tr>\n",
       "      <th>2</th>\n",
       "      <td>u02</td>\n",
       "      <td>-4.0</td>\n",
       "    </tr>\n",
       "    <tr>\n",
       "      <th>3</th>\n",
       "      <td>u03</td>\n",
       "      <td>0.0</td>\n",
       "    </tr>\n",
       "    <tr>\n",
       "      <th>4</th>\n",
       "      <td>u04</td>\n",
       "      <td>0.0</td>\n",
       "    </tr>\n",
       "    <tr>\n",
       "      <th>5</th>\n",
       "      <td>u05</td>\n",
       "      <td>-2.0</td>\n",
       "    </tr>\n",
       "    <tr>\n",
       "      <th>7</th>\n",
       "      <td>u07</td>\n",
       "      <td>-6.0</td>\n",
       "    </tr>\n",
       "    <tr>\n",
       "      <th>9</th>\n",
       "      <td>u09</td>\n",
       "      <td>-2.0</td>\n",
       "    </tr>\n",
       "    <tr>\n",
       "      <th>10</th>\n",
       "      <td>u10</td>\n",
       "      <td>4.0</td>\n",
       "    </tr>\n",
       "    <tr>\n",
       "      <th>14</th>\n",
       "      <td>u14</td>\n",
       "      <td>-1.0</td>\n",
       "    </tr>\n",
       "    <tr>\n",
       "      <th>15</th>\n",
       "      <td>u15</td>\n",
       "      <td>0.0</td>\n",
       "    </tr>\n",
       "    <tr>\n",
       "      <th>16</th>\n",
       "      <td>u16</td>\n",
       "      <td>-10.0</td>\n",
       "    </tr>\n",
       "    <tr>\n",
       "      <th>17</th>\n",
       "      <td>u17</td>\n",
       "      <td>-16.0</td>\n",
       "    </tr>\n",
       "    <tr>\n",
       "      <th>18</th>\n",
       "      <td>u18</td>\n",
       "      <td>3.0</td>\n",
       "    </tr>\n",
       "    <tr>\n",
       "      <th>19</th>\n",
       "      <td>u19</td>\n",
       "      <td>-4.0</td>\n",
       "    </tr>\n",
       "    <tr>\n",
       "      <th>20</th>\n",
       "      <td>u20</td>\n",
       "      <td>-2.0</td>\n",
       "    </tr>\n",
       "    <tr>\n",
       "      <th>23</th>\n",
       "      <td>u23</td>\n",
       "      <td>0.0</td>\n",
       "    </tr>\n",
       "    <tr>\n",
       "      <th>24</th>\n",
       "      <td>u24</td>\n",
       "      <td>8.0</td>\n",
       "    </tr>\n",
       "    <tr>\n",
       "      <th>27</th>\n",
       "      <td>u27</td>\n",
       "      <td>-15.0</td>\n",
       "    </tr>\n",
       "    <tr>\n",
       "      <th>30</th>\n",
       "      <td>u30</td>\n",
       "      <td>-2.0</td>\n",
       "    </tr>\n",
       "    <tr>\n",
       "      <th>31</th>\n",
       "      <td>u31</td>\n",
       "      <td>13.0</td>\n",
       "    </tr>\n",
       "    <tr>\n",
       "      <th>32</th>\n",
       "      <td>u32</td>\n",
       "      <td>-8.0</td>\n",
       "    </tr>\n",
       "    <tr>\n",
       "      <th>33</th>\n",
       "      <td>u33</td>\n",
       "      <td>0.0</td>\n",
       "    </tr>\n",
       "    <tr>\n",
       "      <th>34</th>\n",
       "      <td>u34</td>\n",
       "      <td>0.0</td>\n",
       "    </tr>\n",
       "    <tr>\n",
       "      <th>35</th>\n",
       "      <td>u35</td>\n",
       "      <td>4.0</td>\n",
       "    </tr>\n",
       "    <tr>\n",
       "      <th>36</th>\n",
       "      <td>u36</td>\n",
       "      <td>4.0</td>\n",
       "    </tr>\n",
       "    <tr>\n",
       "      <th>42</th>\n",
       "      <td>u42</td>\n",
       "      <td>0.0</td>\n",
       "    </tr>\n",
       "    <tr>\n",
       "      <th>43</th>\n",
       "      <td>u43</td>\n",
       "      <td>4.0</td>\n",
       "    </tr>\n",
       "    <tr>\n",
       "      <th>44</th>\n",
       "      <td>u44</td>\n",
       "      <td>-1.0</td>\n",
       "    </tr>\n",
       "    <tr>\n",
       "      <th>45</th>\n",
       "      <td>u45</td>\n",
       "      <td>5.0</td>\n",
       "    </tr>\n",
       "    <tr>\n",
       "      <th>47</th>\n",
       "      <td>u47</td>\n",
       "      <td>-1.0</td>\n",
       "    </tr>\n",
       "    <tr>\n",
       "      <th>49</th>\n",
       "      <td>u49</td>\n",
       "      <td>6.0</td>\n",
       "    </tr>\n",
       "    <tr>\n",
       "      <th>51</th>\n",
       "      <td>u51</td>\n",
       "      <td>1.0</td>\n",
       "    </tr>\n",
       "    <tr>\n",
       "      <th>52</th>\n",
       "      <td>u52</td>\n",
       "      <td>-6.0</td>\n",
       "    </tr>\n",
       "    <tr>\n",
       "      <th>53</th>\n",
       "      <td>u53</td>\n",
       "      <td>-11.0</td>\n",
       "    </tr>\n",
       "    <tr>\n",
       "      <th>56</th>\n",
       "      <td>u56</td>\n",
       "      <td>3.0</td>\n",
       "    </tr>\n",
       "    <tr>\n",
       "      <th>59</th>\n",
       "      <td>u59</td>\n",
       "      <td>-1.0</td>\n",
       "    </tr>\n",
       "  </tbody>\n",
       "</table>\n",
       "</div>"
      ],
      "text/plain": [
       "    uid  Difference_over_quarter\n",
       "0   u00                      1.0\n",
       "1   u01                     -2.0\n",
       "2   u02                     -4.0\n",
       "3   u03                      0.0\n",
       "4   u04                      0.0\n",
       "5   u05                     -2.0\n",
       "7   u07                     -6.0\n",
       "9   u09                     -2.0\n",
       "10  u10                      4.0\n",
       "14  u14                     -1.0\n",
       "15  u15                      0.0\n",
       "16  u16                    -10.0\n",
       "17  u17                    -16.0\n",
       "18  u18                      3.0\n",
       "19  u19                     -4.0\n",
       "20  u20                     -2.0\n",
       "23  u23                      0.0\n",
       "24  u24                      8.0\n",
       "27  u27                    -15.0\n",
       "30  u30                     -2.0\n",
       "31  u31                     13.0\n",
       "32  u32                     -8.0\n",
       "33  u33                      0.0\n",
       "34  u34                      0.0\n",
       "35  u35                      4.0\n",
       "36  u36                      4.0\n",
       "42  u42                      0.0\n",
       "43  u43                      4.0\n",
       "44  u44                     -1.0\n",
       "45  u45                      5.0\n",
       "47  u47                     -1.0\n",
       "49  u49                      6.0\n",
       "51  u51                      1.0\n",
       "52  u52                     -6.0\n",
       "53  u53                    -11.0\n",
       "56  u56                      3.0\n",
       "59  u59                     -1.0"
      ]
     },
     "execution_count": 44,
     "metadata": {},
     "output_type": "execute_result"
    }
   ],
   "source": [
    "stress_change = merge_by_uid(big_5_df_to_merge)\n",
    "# stress_change[stress_change[\"Difference_over_quarter\"].isNan()]\n",
    "stress_change_parsed = stress_change.dropna()\n",
    "stress_change_parsed"
   ]
  },
  {
   "cell_type": "code",
   "execution_count": 57,
   "metadata": {},
   "outputs": [
    {
     "data": {
      "text/plain": [
       "37"
      ]
     },
     "execution_count": 57,
     "metadata": {},
     "output_type": "execute_result"
    }
   ],
   "source": [
    "student1 = big_5_df.apply(lambda x: x.tolist(), axis=1)[0]\n",
    "student1\n"
   ]
  },
  {
   "cell_type": "code",
   "execution_count": 194,
   "metadata": {},
   "outputs": [
    {
     "data": {
      "text/plain": [
       "[2, 1.0]"
      ]
     },
     "execution_count": 194,
     "metadata": {},
     "output_type": "execute_result"
    }
   ],
   "source": [
    "def get_coord(difference_list, question_matrix, uid, questionNum):\n",
    "    y_coord = difference_list[difference_list[\"uid\"] == uid][\"Difference_over_quarter\"].tolist()\n",
    "    found = False\n",
    "    for i in range(len(question_matrix)):\n",
    "        if question_matrix[i][0] == uid:\n",
    "            student = question_matrix[i]\n",
    "            found = True\n",
    "            break\n",
    "    if not found or len(y_coord) < 1:\n",
    "        return None\n",
    "    return [ student[questionNum],y_coord[0]]\n",
    "\n",
    "\n",
    "get_coord(stress_change_parsed, [student1], \"u00\", 2)"
   ]
  },
  {
   "cell_type": "code",
   "execution_count": 214,
   "metadata": {},
   "outputs": [
    {
     "data": {
      "text/plain": [
       "[['u00', 'pre', 2, 3, 3, 4, 4, 2, 2, 4.0, 3, 2, 2, 2, 1, 2],\n",
       " ['u01', 'pre', 3, 3, 3, 4, 4, 2, 2, 4.0, 3, 3, 2, 1, 2, 4],\n",
       " ['u02', 'pre', 1, 3, 3, 2, 4, 4, 3, 4.0, 4, 2, 1, 0, 2, 3],\n",
       " ['u03', 'pre', 2, 3, 3, 4, 4, 3, 3, 4.0, 3, 3, 2, 1, 3, 1],\n",
       " ['u04', 'pre', 2, 3, 3, 4, 4, 3, 3, 4.0, 3, 3, 1, 0, 3, 2],\n",
       " ['u05', 'pre', 3, 3, 3, 4, 4, 4, 4, 4.0, 4, 4, 1, 0, 2, 2],\n",
       " ['u07', 'pre', 1, 3, 3, 4, 4, 3, 4, 4.0, 3, 2, 2, 1, 1, 4],\n",
       " ['u08', 'pre', 2, 3, 3, 4, 4, 3, 3, 3.0, 2, 2, 2, 1, 1, 1],\n",
       " ['u09', 'pre', 3, 3, 3, 4, 4, 4, 4, 4.0, 3, 4, 1, 0, 2, 1],\n",
       " ['u10', 'pre', 2, 3, 3, 4, 4, 3, 3, 3.0, 2, 2, 3, 0, 2, 3],\n",
       " ['u12', 'pre', 3, 3, 3, 4, 4, 4, 4, 4.0, 3, 4, 1, 0, 2, 2],\n",
       " ['u13', 'pre', 1, 3, 3, 4, 3, 3, 3, 4.0, 1, 1, 2, 2, 2, 4],\n",
       " ['u14', 'pre', 3, 3, 3, 3, 2, 4, 4, 4.0, 4, 5, 0, 0, 3, 3],\n",
       " ['u15', 'pre', 2, 3, 3, 4, 4, 2, 3, 4.0, 2, 2, 2, 0, 3, 2],\n",
       " ['u16', 'pre', 1, 3, 3, 4, 4, 2, 3, 4.0, 2, 3, 3, 2, 3, 3],\n",
       " ['u17', 'pre', 1, 3, 3, 2, 4, 3, 2, 3.0, 2, 2, 1, 0, 2, 3],\n",
       " ['u18', 'pre', 1, 3, 1, 2, 2, 1, 1, 4.0, 2, 1, 4, 1, 2, 0],\n",
       " ['u19', 'pre', 1, 3, 3, 3, 3, 2, 3, 4.0, 2, 3, 2, 2, 2, 1],\n",
       " ['u20', 'pre', 1, 1, 1, 2, 3, 4, 4, 3.0, 4, 4, 1, 1, 2, 2],\n",
       " ['u22', 'pre', 3, 3, 3, 4, 4, 3, 4, 4.0, 2, 3, 2, 1, 3, 3],\n",
       " ['u23', 'pre', 0, 1, 1, 2, 2, 1, 1, 1.0, 2, 3, 3, 4, 0, 0],\n",
       " ['u24', 'pre', 2, 3, 3, 2, 2, 3, 3, 4.0, 4, 2, 2, 1, 3, 0],\n",
       " ['u27', 'pre', 1, 3, 3, 4, 4, 4, 4, 4.0, 3, 3, 2, 1, 2, 2],\n",
       " ['u30', 'pre', 3, 3, 3, 4, 4, 4, 4, 4.0, 4, 4, 0, 0, 2, 2],\n",
       " ['u31', 'pre', 1, 1, 1, 3, 3, 2, 3, 1.0, 1, 0, 1, 4, 1, 0],\n",
       " ['u32', 'pre', 2, 3, 3, 4, 2, 4, 4, 3.0, 4, 3, 1, 1, 4, 2],\n",
       " ['u33', 'pre', 1, 3, 3, 4, 3, 1, 1, 3.0, 1, 3, 3, 2, 2, 1],\n",
       " ['u34', 'pre', 2, 3, 3, 4, 4, 4, 4, 4.0, 3, 3, 1, 0, 3, 2],\n",
       " ['u35', 'pre', 1, 3, 1, 3, 4, 2, 2, 3.0, 3, 3, 1, 1, 2, 3],\n",
       " ['u36', 'pre', 1, 3, 3, 3, 3, 3, 3, 3.0, 4, 3, 1, 1, 2, 2],\n",
       " ['u39', 'pre', 0, 3, 3, 3, 3, 3, 3, 4.0, 2, 1, 1, 0, 1, 1],\n",
       " ['u42', 'pre', 2, 3, 1, 3, 3, 3, 2, 4.0, 3, 4, 3, 1, 2, 2],\n",
       " ['u43', 'pre', 0, 1, 1, 1, 1, 3, 4, 0.0, 2, 1, 2, 2, 0, 1],\n",
       " ['u44', 'pre', 3, 3, 3, 3, 4, 3, 3, 3.0, 3, 3, 1, 1, 2, 4],\n",
       " ['u45', 'pre', 2, 1, 3, 3, 3, 4, 4, 3.0, 2, 3, 2, 1, 1, 0],\n",
       " ['u46', 'pre', 2, 3, 3, 3, 4, 2, 1, 4.0, 3, 3, 2, 1, 1, 2],\n",
       " ['u47', 'pre', 3, 3, 3, 4, 4, 4, 4, 4.0, 4, 5, 2, 1, 3, 3],\n",
       " ['u49', 'pre', 2, 0, 1, 4, 4, 3, 4, 4.0, 3, 2, 2, 1, 3, 2],\n",
       " ['u50', 'pre', 1, 1, 1, 3, 2, 4, 3, 2.0, 4, 3, 2, 2, 3, 3],\n",
       " ['u51', 'pre', 1, 3, 3, 4, 4, 4, 4, 4.0, 2, 2, 1, 0, 2, 2],\n",
       " ['u52', 'pre', 1, 3, 3, 4, 4, 2, 4, 4.0, 2, 3, 1, 2, 3, 4],\n",
       " ['u53', 'pre', 1, 3, 3, 4, 4, 2, 2, 3.0, 1, 2, 3, 2, 2, 1],\n",
       " ['u56', 'pre', 2, 3, 3, 2, 4, 4, 3, 2.0, 3, 1, 0, 0, 3, 4],\n",
       " ['u57', 'pre', 3, 3, 3, 4, 4, 4, 4, 4.0, 4, 3, 1, 1, 3, 2],\n",
       " ['u58', 'pre', 3, 3, 3, 4, 4, 2, 1, 4.0, 4, 2, 0, 2, 4, 3],\n",
       " ['u59', 'pre', 1, 3, 3, 3, 4, 3, 3, 3.0, 3, 3, 2, 2, 4, 1],\n",
       " ['u00', 'post', 1, 3, 3, 4, 4, 3, 3, 4.0, 3, 4, 1, 0, 1, 3],\n",
       " ['u01', 'post', 3, 3, 3, 4, 4, 2, 2, 4.0, 2, 2, 2, 2, 2, 3],\n",
       " ['u02', 'post', 1, 3, 3, 3, 3, 2, 3, 4.0, 2, 1, 1, 0, 3, 3],\n",
       " ['u03', 'post', 2, 3, 3, 4, 4, 4, 3, 3.0, 2, 3, 3, 1, 3, 1],\n",
       " ['u04', 'post', 2, 3, 3, 4, 4, 3, 3, 4.0, 2, 3, 1, 1, 3, 2],\n",
       " ['u05', 'post', 2, 3, 3, 4, 4, 3, 4, 4.0, 4, 4, 0, 0, 3, 2],\n",
       " ['u07', 'post', 0, 3, 3, 4, 4, 3, 3, 3.0, 2, 1, 3, 0, 1, 3],\n",
       " ['u09', 'post', 3, 3, 3, 4, 4, 4, 4, 4.0, 3, 2, 1, 0, 2, 1],\n",
       " ['u10', 'post', 2, 3, 3, 4, 4, 4, 4, 4.0, 4, 3, 0, 0, 2, 4],\n",
       " ['u14', 'post', 3, 3, 3, 4, 4, 4, 4, 4.0, 2, 3, 1, 0, 3, 2],\n",
       " ['u15', 'post', 2, 3, 3, 4, 4, 4, 4, 2.0, 3, 3, 1, 0, 1, 2],\n",
       " ['u16', 'post', 0, 3, 3, 4, 3, 1, 1, 4.0, 2, 2, 3, 1, 2, 1],\n",
       " ['u17', 'post', 1, 1, 1, 0, 0, 2, 0, 2.0, 0, 0, 3, 1, 1, 3],\n",
       " ['u18', 'post', 0, 3, 1, 3, 3, 2, 3, 3.0, 1, 2, 3, 1, 2, 1],\n",
       " ['u19', 'post', 2, 1, 0, 4, 4, 2, 2, 4.0, 2, 3, 2, 1, 2, 1],\n",
       " ['u20', 'post', 2, 1, 1, 2, 2, 4, 3, 3.0, 3, 3, 2, 1, 3, 1],\n",
       " ['u23', 'post', 0, 0, 0, 3, 3, 3, 3, 1.0, 1, 2, 3, 2, 0, 0],\n",
       " ['u24', 'post', 1, 3, 3, 4, 4, 4, 4, 4.0, 2, 2, 3, 4, 1, 3],\n",
       " ['u27', 'post', 0, 3, 3, 2, 1, 2, 2, 4.0, 1, 1, 2, 1, 2, 1],\n",
       " ['u30', 'post', 3, 3, 3, 4, 4, 4, 4, 4.0, 2, 4, 0, 0, 2, 2],\n",
       " ['u31', 'post', 2, 1, 3, 3, 3, 2, 2, 3.0, 5, 4, 1, 2, 2, 2],\n",
       " ['u32', 'post', 2, 3, 1, 4, 2, 4, 4, 2.0, 2, 3, 0, 1, 2, 2],\n",
       " ['u33', 'post', 1, 3, 3, 3, 4, 0, 0, 3.0, 2, 2, 4, 4, 1, 1],\n",
       " ['u34', 'post', 2, 3, 3, 4, 4, 4, 4, 4.0, 3, 3, 1, 0, 3, 2],\n",
       " ['u35', 'post', 1, 3, 3, 3, 3, 3, 3, 3.0, 4, 3, 2, 1, 2, 2],\n",
       " ['u36', 'post', 2, 3, 3, 4, 4, 3, 3, 3.0, 4, 3, 1, 1, 2, 3],\n",
       " ['u42', 'post', 3, 1, 1, 3, 4, 4, 3, 3.0, 4, 4, 1, 1, 2, 2],\n",
       " ['u43', 'post', 0, 1, 1, 2, 2, 3, 4, 2.0, 3, 2, 1, 1, 0, 1],\n",
       " ['u44', 'post', 2, 3, 3, 4, 4, 3, 3, 3.0, 3, 2, 2, 1, 1, 4],\n",
       " ['u45', 'post', 3, 1, 1, 3, 3, 3, 3, 4.0, 5, 5, 1, 1, 3, 1],\n",
       " ['u47', 'post', 3, 3, 3, 4, 4, 4, 4, 4.0, 3, 5, 0, 5, 2, 2],\n",
       " ['u49', 'post', 2, 3, 3, 4, 4, 4, 4, 4.0, 4, 3, 1, 1, 1, 3],\n",
       " ['u51', 'post', 1, 3, 3, 4, 3, 4, 4, 4.0, 3, 3, 1, 0, 2, 2],\n",
       " ['u52', 'post', 0, 3, 1, 4, 4, 0, 4, 4.0, 2, 3, 3, 2, 3, 1],\n",
       " ['u53', 'post', 0, 3, 1, 2, 2, 2, 2, 3.0, 1, 2, 2, 1, 0, 1],\n",
       " ['u56', 'post', 2, 3, 3, 4, 4, 3, 3, 4.0, 4, 2, 1, 0, 2, 2],\n",
       " ['u59', 'post', 2, 3, 3, 3, 3, 3, 3, 2.0, 4, 4, 2, 1, 2, 2]]"
      ]
     },
     "execution_count": 214,
     "metadata": {},
     "output_type": "execute_result"
    }
   ],
   "source": [
    "#form question matrix\n",
    "def form_matrix(df):\n",
    "    question_matrx = []\n",
    "    for i in range(df.shape[0]):\n",
    "        question_matrx.append(df.apply(lambda x: x.tolist(), axis=1)[i])\n",
    "    return question_matrx\n",
    "question_matrx_big_5 = form_matrix(big_5_df)\n",
    "question_matrx_big_5"
   ]
  },
  {
   "cell_type": "code",
   "execution_count": 216,
   "metadata": {},
   "outputs": [],
   "source": [
    "def correlation_question(question_matrx, questionNum):\n",
    "    points_to_plot = []\n",
    "    for i in range(60):\n",
    "        uid = str(i)\n",
    "        if len(uid)<2:\n",
    "            uid = \"0\" + uid\n",
    "        uid = \"u\" + uid\n",
    "        x_y = get_coord(stress_change_parsed, question_matrx, uid, questionNum)\n",
    "        if x_y == None:\n",
    "            continue\n",
    "        else:\n",
    "            points_to_plot.append(x_y)\n",
    "    return points_to_plot\n",
    "    "
   ]
  },
  {
   "cell_type": "code",
   "execution_count": 217,
   "metadata": {},
   "outputs": [
    {
     "data": {
      "text/plain": [
       "[[3, 1.0],\n",
       " [3, -2.0],\n",
       " [3, -4.0],\n",
       " [3, 0.0],\n",
       " [3, 0.0],\n",
       " [3, -2.0],\n",
       " [3, -6.0],\n",
       " [3, -2.0],\n",
       " [3, 4.0],\n",
       " [3, -1.0],\n",
       " [3, 0.0],\n",
       " [3, -10.0],\n",
       " [3, -16.0],\n",
       " [1, 3.0],\n",
       " [3, -4.0],\n",
       " [1, -2.0],\n",
       " [1, 0.0],\n",
       " [3, 8.0],\n",
       " [3, -15.0],\n",
       " [3, -2.0],\n",
       " [1, 13.0],\n",
       " [3, -8.0],\n",
       " [3, 0.0],\n",
       " [3, 0.0],\n",
       " [1, 4.0],\n",
       " [3, 4.0],\n",
       " [1, 0.0],\n",
       " [1, 4.0],\n",
       " [3, -1.0],\n",
       " [3, 5.0],\n",
       " [3, -1.0],\n",
       " [1, 6.0],\n",
       " [3, 1.0],\n",
       " [3, -6.0],\n",
       " [3, -11.0],\n",
       " [3, 3.0],\n",
       " [3, -1.0]]"
      ]
     },
     "execution_count": 217,
     "metadata": {},
     "output_type": "execute_result"
    }
   ],
   "source": [
    "correlation_question(question_matrx_big_5, 4)"
   ]
  },
  {
   "cell_type": "code",
   "execution_count": 198,
   "metadata": {},
   "outputs": [
    {
     "data": {
      "text/plain": [
       "Index(['In general, would you say your health is',\n",
       "       'Moderate activities, such as moving a table, pushing a vacuum cleaner, bowling or playing golf?',\n",
       "       'Climbing several flights of stairs?',\n",
       "       'Accomplished less than you would like.',\n",
       "       'Were limited in the kind of work or other activities.',\n",
       "       'Accomplished less than you would like..1',\n",
       "       'Didn't do work or other activities as carefully as usual.',\n",
       "       'During the past 4 weeks, how much did pain interfere with your normal work (including both work outside the home and housework)?',\n",
       "       'How much of the time during the past 4 weeks: Have you felt calm and peaceful?',\n",
       "       'How much of the time during the past 4 weeks: Did you have a lot of energy?',\n",
       "       'How much of the time during the past 4 weeks: Have you felt downhearted and blue?',\n",
       "       'During the past 4 weeks, how much of the time has your physical health or emotional problems interfered with your social activities (like visiting with friends, relatives, etc.)?',\n",
       "       'Compared to one year ago, how would you rate your physical health in general now?',\n",
       "       'Compared to one year ago, how would you rate your emotional problems (such as feeling anxious, depressed or irritable) now?'],\n",
       "      dtype='object')"
      ]
     },
     "execution_count": 198,
     "metadata": {},
     "output_type": "execute_result"
    }
   ],
   "source": [
    "big_5_df.columns[2:]"
   ]
  },
  {
   "cell_type": "code",
   "execution_count": 218,
   "metadata": {},
   "outputs": [],
   "source": [
    "def plot_for_question(dataframe,questionNum):\n",
    "    question_matrx = form_matrix(dataframe)\n",
    "    points = correlation_question(question_matrx, questionNum)\n",
    "    pd.DataFrame(points,columns=['Question #' + str(questionNum),'StessIncrease']).plot.scatter(y = 'StessIncrease', x = 'Question #' + str(questionNum))"
   ]
  },
  {
   "cell_type": "code",
   "execution_count": 220,
   "metadata": {},
   "outputs": [
    {
     "data": {
      "image/png": "[encoded data removed]",
      "text/plain": [
       "<Figure size 432x288 with 1 Axes>"
      ]
     },
     "metadata": {},
     "output_type": "display_data"
    }
   ],
   "source": [
    "plot_for_question(big_5_df,4)"
   ]
  },
  {
   "cell_type": "code",
   "execution_count": 221,
   "metadata": {},
   "outputs": [],
   "source": [
    "# for i in range(2, len(big_5_df.columns)):\n",
    "#     plot_for_question(i)"
   ]
  },
  {
   "cell_type": "markdown",
   "metadata": {},
   "source": [
    "Through this part of EDA, we can see that there does not seem to be any correlation between how a student initially a question and how stressed they are. "
   ]
  },
  {
   "cell_type": "code",
   "execution_count": 223,
   "metadata": {},
   "outputs": [
    {
     "data": {
      "image/png": "[encoded data removed]",
      "text/plain": [
       "<Figure size 432x288 with 1 Axes>"
      ]
     },
     "metadata": {},
     "output_type": "display_data"
    }
   ],
   "source": [
    "plot_for_question(vr_12_df,7)"
   ]
  },
  {
   "cell_type": "code",
   "execution_count": null,
   "metadata": {},
   "outputs": [],
   "source": []
  }
 ],
 "metadata": {
  "kernelspec": {
   "display_name": "Python 3",
   "language": "python",
   "name": "python3"
  },
  "language_info": {
   "codemirror_mode": {
    "name": "ipython",
    "version": 3
   },
   "file_extension": ".py",
   "mimetype": "text/x-python",
   "name": "python",
   "nbconvert_exporter": "python",
   "pygments_lexer": "ipython3",
   "version": "3.6.5"
  }
 },
 "nbformat": 4,
 "nbformat_minor": 2
}
