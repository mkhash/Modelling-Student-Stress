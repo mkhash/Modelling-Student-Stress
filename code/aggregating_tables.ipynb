{
 "cells": [
  {
   "cell_type": "code",
   "execution_count": 6,
   "metadata": {},
   "outputs": [],
   "source": [
    "import numpy as np\n",
    "import pandas as pd\n",
    "import os\n",
    "import sklearn.metrics\n",
    "import matplotlib.pyplot as plt\n",
    "import seaborn as sns\n",
    "import math as mt\n",
    "import re\n",
    "from os.path import dirname"
   ]
  },
  {
   "cell_type": "code",
   "execution_count": 7,
   "metadata": {},
   "outputs": [],
   "source": [
    "curr_path = dirname(os.getcwd())\n",
    "table_path = curr_path + '/clean_data'"
   ]
  },
  {
   "cell_type": "code",
   "execution_count": 8,
   "metadata": {},
   "outputs": [
    {
     "data": {
      "text/plain": [
       "['/Users/mark/Desktop/GitHub/student_stress_repo/clean_data/big_five_CLEAN.csv',\n",
       " '/Users/mark/Desktop/GitHub/student_stress_repo/clean_data/deadlines_CLEAN.csv',\n",
       " '/Users/mark/Desktop/GitHub/student_stress_repo/clean_data/flourishing_scale_CLEAN.csv',\n",
       " '/Users/mark/Desktop/GitHub/student_stress_repo/clean_data/grades_CLEAN.csv',\n",
       " '/Users/mark/Desktop/GitHub/student_stress_repo/clean_data/loneliness_scale_CLEAN.csv',\n",
       " '/Users/mark/Desktop/GitHub/student_stress_repo/clean_data/panas_CLEAN.csv',\n",
       " '/Users/mark/Desktop/GitHub/student_stress_repo/clean_data/perceived_stress_CLEAN.csv',\n",
       " '/Users/mark/Desktop/GitHub/student_stress_repo/clean_data/phq_9_CLEAN.csv',\n",
       " '/Users/mark/Desktop/GitHub/student_stress_repo/clean_data/piazza_CLEAN.csv',\n",
       " '/Users/mark/Desktop/GitHub/student_stress_repo/clean_data/psqi_CLEAN.csv',\n",
       " '/Users/mark/Desktop/GitHub/student_stress_repo/clean_data/vr_12_CLEAN.csv']"
      ]
     },
     "execution_count": 8,
     "metadata": {},
     "output_type": "execute_result"
    }
   ],
   "source": [
    "file_list = os.listdir(table_path)\n",
    "file_list = [table_path + '/' + i for i in file_list]\n",
    "file_list"
   ]
  },
  {
   "cell_type": "code",
   "execution_count": 10,
   "metadata": {},
   "outputs": [],
   "source": [
    "deadlines_df = pd.read_csv(file_list[1], index_col=0)\n",
    "flourishing_df = pd.read_csv(file_list[2], index_col = 0)\n",
    "grades_df = pd.read_csv(file_list[3], index_col = 0)\n",
    "loneliness_df = pd.read_csv(file_list[4], index_col = 0)\n",
    "panas_df = pd.read_csv(file_list[5], index_col = 0)\n",
    "stress_df = pd.read_csv(file_list[6], index_col = 0)\n",
    "phq_9 = pd.read_csv(file_list[7], index_col = 0)\n",
    "piazza_df = pd.read_csv(file_list[8], index_col = 0)\n",
    "psqi_df = pd.read_csv(file_list[9], index_col = 0)\n",
    "vr_12_df = pd.read_csv(file_list[10], index_col = 0)\n",
    "big_5_df = pd.read_csv(file_list[0], index_col = 0)"
   ]
  },
  {
   "cell_type": "markdown",
   "metadata": {},
   "source": [
    "With this function we are going to be merging based on uid on their perspective before and after taking the exam.\n",
    "We take the difference in their moods. If the difference for one student over the past year is negative, then their outlook on themselves has changed toward a more pessimistic side. On the other hand, if the difference between post and pre values is positive, this indicates that their outlook is more positive than it was initially"
   ]
  },
  {
   "cell_type": "code",
   "execution_count": 13,
   "metadata": {},
   "outputs": [],
   "source": [
    "#split the data\n",
    "def merge_by_uid(dataset):\n",
    "    uids = []\n",
    "    difference_over_quarter = []\n",
    "    big_five_pre = dataset[dataset[\"type\"] == \"pre\"]\n",
    "    big_five_post = dataset[dataset[\"type\"] == \"post\"]\n",
    "    concat_big_five = dataset.iloc[990:]\n",
    "    for i in range(60):\n",
    "        if len(str(i)) == 1:\n",
    "            uid = \"u0\" + str(i)\n",
    "        else:\n",
    "            uid = \"u\" + str(i)\n",
    "        try:\n",
    "            pre_row_by_uid = big_five_pre.loc[uid].tolist()\n",
    "            post_row_by_uid = big_five_post.loc[uid].tolist()\n",
    "\n",
    "            difference = 0\n",
    "            for i in range(len(pre_row_by_uid)):\n",
    "                if not isinstance(pre_row_by_uid[i],str):\n",
    "                    difference += post_row_by_uid[i]-pre_row_by_uid[i]\n",
    "            difference_over_quarter.append(difference)\n",
    "            uids.append(uid)\n",
    "        except:\n",
    "#             print(\"no two reportings for uid\" + str(uid))\n",
    "            uids.append(uid)\n",
    "            difference_over_quarter.append(None)\n",
    "            pass\n",
    "\n",
    "\n",
    "    return pd.DataFrame({'uid':uids, 'Difference_over_quarter':difference_over_quarter})            "
   ]
  },
  {
   "cell_type": "code",
   "execution_count": null,
   "metadata": {},
   "outputs": [],
   "source": []
  }
 ],
 "metadata": {
  "kernelspec": {
   "display_name": "Python 3",
   "language": "python",
   "name": "python3"
  },
  "language_info": {
   "codemirror_mode": {
    "name": "ipython",
    "version": 3
   },
   "file_extension": ".py",
   "mimetype": "text/x-python",
   "name": "python",
   "nbconvert_exporter": "python",
   "pygments_lexer": "ipython3",
   "version": "3.7.2"
  }
 },
 "nbformat": 4,
 "nbformat_minor": 2
}
