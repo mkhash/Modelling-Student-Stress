{
 "cells": [
  {
   "cell_type": "markdown",
   "metadata": {},
   "source": [
    "### NAME : Jared Gutierrez\n",
    "### ID : 26505854"
   ]
  },
  {
   "cell_type": "markdown",
   "metadata": {},
   "source": [
    "# Dataset\n"
   ]
  },
  {
   "cell_type": "markdown",
   "metadata": {},
   "source": [
    "Imports"
   ]
  },
  {
   "cell_type": "code",
   "execution_count": 37,
   "metadata": {},
   "outputs": [],
   "source": [
    "import pandas as pd\n",
    "import numpy as np"
   ]
  },
  {
   "cell_type": "code",
   "execution_count": 38,
   "metadata": {},
   "outputs": [],
   "source": [
    "dataset = pd.read_excel(\"Kaggle_survey_responses.xlsx\")"
   ]
  },
  {
   "cell_type": "code",
   "execution_count": 39,
   "metadata": {},
   "outputs": [
    {
     "data": {
      "text/plain": [
       "(2958, 19)"
      ]
     },
     "execution_count": 39,
     "metadata": {},
     "output_type": "execute_result"
    }
   ],
   "source": [
    "dataset.shape"
   ]
  },
  {
   "cell_type": "markdown",
   "metadata": {},
   "source": [
    "# Cleaning Up Data"
   ]
  },
  {
   "cell_type": "code",
   "execution_count": 40,
   "metadata": {},
   "outputs": [],
   "source": [
    "dataset = dataset.rename(index=str, columns={\n",
    "    \"Q1-How many events have you Volunteered in ?\": \"volunteer_events\", \n",
    "    \"Q2-How many events have you Participated in ?\": \"participated_events\",\n",
    "    \"Q3-How many activities are you Interested in ?\":\"activities_interested_in\",\n",
    "    \"Q4-How many activities are you Passionate about ?\": \"activities_passionate_about\",\n",
    "    \"Q5-What are your levels of stress ?\": \"stress_lvl\",\n",
    "    \"Q6-How Satisfied You are with your Student Life ?\": \"satisfaction_lvl\",\n",
    "    \"Q7-How much effort do you make to interact with others ?\": \"Effort to Interact with Others\",\n",
    "    \"Q8-About How events are you aware about ?\": \"Events Aware About\",\n",
    "    \"Q9-What is an ideal student life ?\": \"Ideal Student Life Response\"})"
   ]
  },
  {
   "cell_type": "code",
   "execution_count": 41,
   "metadata": {},
   "outputs": [
    {
     "data": {
      "text/plain": [
       "Index(['Career', 'Citizenship', 'Nationality', 'Year since Matriculation',\n",
       "       'Year of Study', 'Primary Programme', 'Gender', 'Department',\n",
       "       'Housing Type', 'volunteer_events', 'participated_events',\n",
       "       'activities_interested_in', 'activities_passionate_about', 'stress_lvl',\n",
       "       'satisfaction_lvl', 'Effort to Interact with Others',\n",
       "       'Events Aware About', 'response_id', 'Ideal Student Life Response'],\n",
       "      dtype='object')"
      ]
     },
     "execution_count": 41,
     "metadata": {},
     "output_type": "execute_result"
    }
   ],
   "source": [
    "dataset.columns"
   ]
  },
  {
   "cell_type": "code",
   "execution_count": 42,
   "metadata": {},
   "outputs": [
    {
     "data": {
      "text/html": [
       "<div>\n",
       "<style scoped>\n",
       "    .dataframe tbody tr th:only-of-type {\n",
       "        vertical-align: middle;\n",
       "    }\n",
       "\n",
       "    .dataframe tbody tr th {\n",
       "        vertical-align: top;\n",
       "    }\n",
       "\n",
       "    .dataframe thead th {\n",
       "        text-align: right;\n",
       "    }\n",
       "</style>\n",
       "<table border=\"1\" class=\"dataframe\">\n",
       "  <thead>\n",
       "    <tr style=\"text-align: right;\">\n",
       "      <th></th>\n",
       "      <th>Career</th>\n",
       "      <th>Citizenship</th>\n",
       "      <th>Nationality</th>\n",
       "      <th>Year since Matriculation</th>\n",
       "      <th>Year of Study</th>\n",
       "      <th>Primary Programme</th>\n",
       "      <th>Gender</th>\n",
       "      <th>Department</th>\n",
       "      <th>Housing Type</th>\n",
       "      <th>volunteer_events</th>\n",
       "      <th>participated_events</th>\n",
       "      <th>activities_interested_in</th>\n",
       "      <th>activities_passionate_about</th>\n",
       "      <th>stress_lvl</th>\n",
       "      <th>satisfaction_lvl</th>\n",
       "      <th>Effort to Interact with Others</th>\n",
       "      <th>Events Aware About</th>\n",
       "      <th>response_id</th>\n",
       "      <th>Ideal Student Life Response</th>\n",
       "    </tr>\n",
       "  </thead>\n",
       "  <tbody>\n",
       "    <tr>\n",
       "      <th>0</th>\n",
       "      <td>UGRD</td>\n",
       "      <td>Foreigner</td>\n",
       "      <td>Indonesia</td>\n",
       "      <td>2</td>\n",
       "      <td>2</td>\n",
       "      <td>Bachelor of Science</td>\n",
       "      <td>F</td>\n",
       "      <td>School of Science</td>\n",
       "      <td>Residences</td>\n",
       "      <td>0</td>\n",
       "      <td>1</td>\n",
       "      <td>3</td>\n",
       "      <td>1</td>\n",
       "      <td>1</td>\n",
       "      <td>2</td>\n",
       "      <td>2.0</td>\n",
       "      <td>2.0</td>\n",
       "      <td>1</td>\n",
       "      <td>NaN</td>\n",
       "    </tr>\n",
       "    <tr>\n",
       "      <th>1</th>\n",
       "      <td>UGRD</td>\n",
       "      <td>Country Citizen</td>\n",
       "      <td>Singapore</td>\n",
       "      <td>1</td>\n",
       "      <td>1</td>\n",
       "      <td>Bachelor of Engineering</td>\n",
       "      <td>F</td>\n",
       "      <td>School of Engineering</td>\n",
       "      <td>Out of Campus</td>\n",
       "      <td>0</td>\n",
       "      <td>1</td>\n",
       "      <td>2</td>\n",
       "      <td>3</td>\n",
       "      <td>1</td>\n",
       "      <td>2</td>\n",
       "      <td>2.0</td>\n",
       "      <td>3.0</td>\n",
       "      <td>2</td>\n",
       "      <td>Friends+CCas+good result</td>\n",
       "    </tr>\n",
       "    <tr>\n",
       "      <th>2</th>\n",
       "      <td>UGRD</td>\n",
       "      <td>Foreigner</td>\n",
       "      <td>Malaysia</td>\n",
       "      <td>2</td>\n",
       "      <td>2</td>\n",
       "      <td>Bachelor of Science</td>\n",
       "      <td>M</td>\n",
       "      <td>School of Science</td>\n",
       "      <td>Halls</td>\n",
       "      <td>3</td>\n",
       "      <td>1</td>\n",
       "      <td>1</td>\n",
       "      <td>5</td>\n",
       "      <td>2</td>\n",
       "      <td>2</td>\n",
       "      <td>2.0</td>\n",
       "      <td>2.0</td>\n",
       "      <td>3</td>\n",
       "      <td>just want everything to go smooth. serious</td>\n",
       "    </tr>\n",
       "    <tr>\n",
       "      <th>3</th>\n",
       "      <td>UGRD</td>\n",
       "      <td>Foreigner</td>\n",
       "      <td>Malaysia</td>\n",
       "      <td>2</td>\n",
       "      <td>2</td>\n",
       "      <td>Bachelor of Engineering</td>\n",
       "      <td>M</td>\n",
       "      <td>School of Engineering</td>\n",
       "      <td>Halls</td>\n",
       "      <td>3</td>\n",
       "      <td>4</td>\n",
       "      <td>3</td>\n",
       "      <td>3</td>\n",
       "      <td>7</td>\n",
       "      <td>1</td>\n",
       "      <td>1.0</td>\n",
       "      <td>1.0</td>\n",
       "      <td>4</td>\n",
       "      <td>NaN</td>\n",
       "    </tr>\n",
       "    <tr>\n",
       "      <th>4</th>\n",
       "      <td>UGRD</td>\n",
       "      <td>Foreigner</td>\n",
       "      <td>Viet Nam</td>\n",
       "      <td>3</td>\n",
       "      <td>3</td>\n",
       "      <td>Bachelor of Engineering</td>\n",
       "      <td>F</td>\n",
       "      <td>School of Engineering</td>\n",
       "      <td>Out of Campus</td>\n",
       "      <td>4</td>\n",
       "      <td>3</td>\n",
       "      <td>4</td>\n",
       "      <td>5</td>\n",
       "      <td>4</td>\n",
       "      <td>2</td>\n",
       "      <td>2.0</td>\n",
       "      <td>2.0</td>\n",
       "      <td>5</td>\n",
       "      <td>a mixture of both academic and non-academic</td>\n",
       "    </tr>\n",
       "  </tbody>\n",
       "</table>\n",
       "</div>"
      ],
      "text/plain": [
       "  Career      Citizenship Nationality  Year since Matriculation  \\\n",
       "0   UGRD        Foreigner   Indonesia                         2   \n",
       "1   UGRD  Country Citizen   Singapore                         1   \n",
       "2   UGRD        Foreigner    Malaysia                         2   \n",
       "3   UGRD        Foreigner    Malaysia                         2   \n",
       "4   UGRD        Foreigner    Viet Nam                         3   \n",
       "\n",
       "   Year of Study        Primary Programme Gender             Department  \\\n",
       "0              2      Bachelor of Science      F      School of Science   \n",
       "1              1  Bachelor of Engineering      F  School of Engineering   \n",
       "2              2      Bachelor of Science      M      School of Science   \n",
       "3              2  Bachelor of Engineering      M  School of Engineering   \n",
       "4              3  Bachelor of Engineering      F  School of Engineering   \n",
       "\n",
       "    Housing Type  volunteer_events  participated_events  \\\n",
       "0     Residences                 0                    1   \n",
       "1  Out of Campus                 0                    1   \n",
       "2          Halls                 3                    1   \n",
       "3          Halls                 3                    4   \n",
       "4  Out of Campus                 4                    3   \n",
       "\n",
       "   activities_interested_in  activities_passionate_about  stress_lvl  \\\n",
       "0                         3                            1           1   \n",
       "1                         2                            3           1   \n",
       "2                         1                            5           2   \n",
       "3                         3                            3           7   \n",
       "4                         4                            5           4   \n",
       "\n",
       "   satisfaction_lvl  Effort to Interact with Others  Events Aware About  \\\n",
       "0                 2                             2.0                 2.0   \n",
       "1                 2                             2.0                 3.0   \n",
       "2                 2                             2.0                 2.0   \n",
       "3                 1                             1.0                 1.0   \n",
       "4                 2                             2.0                 2.0   \n",
       "\n",
       "   response_id                  Ideal Student Life Response  \n",
       "0            1                                          NaN  \n",
       "1            2                     Friends+CCas+good result  \n",
       "2            3   just want everything to go smooth. serious  \n",
       "3            4                                          NaN  \n",
       "4            5  a mixture of both academic and non-academic  "
      ]
     },
     "execution_count": 42,
     "metadata": {},
     "output_type": "execute_result"
    }
   ],
   "source": [
    "dataset.head()"
   ]
  },
  {
   "cell_type": "code",
   "execution_count": 43,
   "metadata": {},
   "outputs": [
    {
     "name": "stdout",
     "output_type": "stream",
     "text": [
      "<class 'str'>\n",
      "<class 'str'>\n",
      "<class 'str'>\n",
      "<class 'numpy.int64'>\n",
      "<class 'numpy.int64'>\n",
      "<class 'str'>\n",
      "<class 'str'>\n",
      "<class 'str'>\n",
      "<class 'str'>\n",
      "<class 'numpy.int64'>\n",
      "<class 'numpy.int64'>\n",
      "<class 'numpy.int64'>\n",
      "<class 'numpy.int64'>\n",
      "<class 'numpy.int64'>\n",
      "<class 'numpy.int64'>\n",
      "<class 'numpy.float64'>\n",
      "<class 'numpy.float64'>\n",
      "<class 'numpy.int64'>\n",
      "<class 'float'>\n"
     ]
    }
   ],
   "source": [
    "for col in dataset.columns:\n",
    "    print(type(dataset[col][0]))"
   ]
  },
  {
   "cell_type": "markdown",
   "metadata": {},
   "source": [
    "# Dataset Details"
   ]
  },
  {
   "cell_type": "markdown",
   "metadata": {},
   "source": [
    "Averages for each column within the dataset\n",
    "    1. We take the average values for columns with numerical values\n",
    "    2. We show distribution for values with columns with categorical values"
   ]
  },
  {
   "cell_type": "code",
   "execution_count": 58,
   "metadata": {},
   "outputs": [
    {
     "name": "stdout",
     "output_type": "stream",
     "text": [
      "Dictionary for Career\n",
      "{'UGRD': 2694, 'GRAD': 218, 'NGRD': 46}\n",
      "\n",
      "\n",
      "Dictionary for Citizenship\n",
      "{'Foreigner': 343, 'Country Citizen': 2467, 'Permanent Resident': 148}\n",
      "\n",
      "\n",
      "Dictionary for Nationality\n",
      "{'Indonesia': 39, 'Singapore': 2467, 'Malaysia': 130, 'Viet Nam': 20, 'Hong Kong': 4, 'Bangladesh': 2, 'India': 47, 'Myanmar': 7, 'Philippines': 3, 'Canada': 17, 'United States': 15, 'Poland': 1, 'China': 158, 'Mexico': 2, 'Australia': 1, 'Taiwan': 13, 'Korea, Republic of': 10, 'Thailand': 3, 'Switzerland': 1, 'Pakistan': 1, 'Nepal': 2, 'Israel': 1, 'Sri Lanka': 2, 'Germany': 3, 'British National Overseas': 1, 'France': 1, 'Japan': 2, 'United Kingdom': 2, 'Denmark': 1, 'Turkey': 1, 'Netherlands': 1}\n",
      "\n",
      "\n",
      "Average Year since Matriculation is: 2.207234617985125\n",
      "\n",
      "\n",
      "Average Year of Study is: 2.2062204192021637\n",
      "\n",
      "\n",
      "Dictionary for Primary Programme\n",
      "{'Bachelor of Science': 482, 'Bachelor of Engineering': 511, 'Bachelor of Business Admin': 307, 'Bachelor of Computing': 103, 'Bachelor of Science (Pharmacy)': 121, 'Master of Laws': 5, 'Bachelor of Science (SDE)': 132, 'Bachelor of Arts': 609, 'Doctor of Philosophy (FoS)': 22, 'Doctor of Philosophy (SoM)': 11, 'Master of Technology': 16, 'Master of Science (Mgt)': 3, 'Bachelor of Science (Nursing)': 52, 'Bachelor of Social Sciences': 115, 'Master in Public Policy': 2, 'Bachelor of Music': 6, 'Bachelor of Laws': 48, 'Bach. of Med.,Bach. of Surg.': 58, 'Master in Public Admin': 3, 'Exchange (Coursework)': 45, 'Bachelor of Science (SOC)': 25, 'Bachelor of Engineering (CEG)': 31, \"Yale-University Bachelor's Program\": 20, 'Bachelor of Arts (SDE)': 28, 'Doctor of Philosophy (FoE)': 26, 'Doctor of Philosophy (NGS)': 14, 'Master of Science (RSH-FoS)': 6, 'Master of Public Health': 3, 'Master of Science (FoE)': 18, 'Doctor of Philosophy (FASS)': 5, 'Master of Science (Track 2)': 4, 'Master of Engineering (FoE)': 5, 'Doctor of Medicine (MD)': 10, 'Doctor of Philosophy (SoC)': 8, 'Bachelor of Dental Surgery': 14, 'Bachelor of Env Studies (FOS)': 18, 'Master of Arts (RSH-FASS)': 4, 'Doctor of Philosophy (CSI)': 2, 'Master of Science (BZA)': 3, 'Bachelor of Env Studies (FASS)': 10, 'Master of Science (SoM)': 2, 'Master of Soc.Sci. (RSH-FASS)': 4, 'Master of Science (Track 1)': 5, 'Master of Business Admin': 3, 'Bachelor of Technology': 4, 'Master of Psychology': 2, 'Doctor of Philosophy (FoS-MBI)': 2, 'Graduate Diploma (FASS)': 1, 'Master of Science (SDE-L)': 5, 'Master of Computing': 2, 'Master of Science (TDSI-MDTS)': 1, 'Doctor of Philosophy (AKI)': 2, 'Doctor of Philosophy (BDG)': 1, 'Master of Urban Planning': 1, 'Master of Social Sciences': 2, 'Doctor of Philosophy (SDE)': 1, 'Graduate Diploma (ISS)': 3, 'Doctor of Philosophy (SPP)': 1, 'Master of Science (SDE)': 1, 'Doctor of Philosophy (CQT)': 1, 'Doctor of Pharmacy': 1, 'Master of Science (FoE-SCM)': 1, 'Master of Nursing': 1, 'Non-Exchange (Coursework)': 1, 'Master of Science (RMI)': 1, 'Doctor of Philosophy (BIZ)': 2, 'Doctor of Philosophy (NGS-MBI)': 1, 'Master of Arts': 1}\n",
      "\n",
      "\n",
      "Dictionary for Gender\n",
      "{'F': 1899, 'M': 1059}\n",
      "\n",
      "\n",
      "Dictionary for Department\n",
      "{'School of Science': 661, 'School of Engineering': 562, 'School of Business School': 318, 'School of Computing': 138, 'School of Law': 53, 'School of Design & Environment': 171, 'School of Arts & Social Science': 743, 'School of Medicine1': 126, 'School of Systems Science': 19, 'School of Public Policy': 6, 'School of Conservatory of Music': 6, 'School of Foreign College': 30, 'School of Exchange Students': 46, 'School of Multi Disciplinary Programme': 31, 'School of International Science': 16, 'School of Public Health': 3, 'School of Medicine2': 10, 'School of Dentistry': 14, 'School of Cont & Lifelong Edun': 3, 'School of Defence System': 1, 'School of Risk Management': 1}\n",
      "\n",
      "\n",
      "Dictionary for Housing Type\n",
      "{'Residences': 134, 'Out of Campus': 2038, 'Halls': 523, 'Residential Colleges': 263}\n",
      "\n",
      "\n",
      "Average volunteer_events is: 1.2481406355645706\n",
      "\n",
      "\n",
      "Average participated_events is: 1.4935767410412442\n",
      "\n",
      "\n",
      "Average activities_interested_in is: 2.73394185260311\n",
      "\n",
      "\n",
      "Average activities_passionate_about is: 3.184246112237999\n",
      "\n",
      "\n",
      "Average stress_lvl is: 3.0919540229885056\n",
      "\n",
      "\n",
      "Average satisfaction_lvl is: 1.9252873563218391\n",
      "\n",
      "\n",
      "Average response_id is: 1479.5\n",
      "\n",
      "\n"
     ]
    }
   ],
   "source": [
    "#TODO: clean up values to ensure that there are no NaN values or invalid data\n",
    "\n",
    "\n",
    "def get_distribution_information(columnName, column):\n",
    "    print(\"Dictionary for \" + columnName)\n",
    "    dictionary = {}\n",
    "    for category in column:\n",
    "        if dictionary.get(category):\n",
    "            dictionary[category] += 1\n",
    "        else:\n",
    "            dictionary[category] = 1\n",
    "    print(dictionary)\n",
    "    print('\\n')\n",
    "    return dictionary\n",
    "    \n",
    "def get_averages(dataset):\n",
    "    for col in dataset.columns:\n",
    "        if len(dataset[col]) > 0:\n",
    "            if isinstance(dataset[col][0], str):\n",
    "                get_distribution_information(col, dataset[col])\n",
    "            if isinstance(dataset[col][0], np.int64):\n",
    "                avg = np.average(dataset[col])\n",
    "                print(\"Average \" + str(col) + \" is: \" + str(avg))\n",
    "                print('\\n')\n",
    "\n",
    "get_averages(dataset)\n",
    "\n"
   ]
  },
  {
   "cell_type": "code",
   "execution_count": null,
   "metadata": {},
   "outputs": [],
   "source": []
  },
  {
   "cell_type": "code",
   "execution_count": null,
   "metadata": {},
   "outputs": [],
   "source": []
  }
 ],
 "metadata": {
  "anaconda-cloud": {},
  "kernelspec": {
   "display_name": "Python 3",
   "language": "python",
   "name": "python3"
  },
  "language_info": {
   "codemirror_mode": {
    "name": "ipython",
    "version": 3
   },
   "file_extension": ".py",
   "mimetype": "text/x-python",
   "name": "python",
   "nbconvert_exporter": "python",
   "pygments_lexer": "ipython3",
   "version": "3.7.2"
  }
 },
 "nbformat": 4,
 "nbformat_minor": 1
}
