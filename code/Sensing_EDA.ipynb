{
 "cells": [
  {
   "cell_type": "code",
   "execution_count": 166,
   "metadata": {},
   "outputs": [],
   "source": [
    "import os, json\n",
    "import pandas as pd\n",
    "from os import path\n",
    "import re\n",
    "import numpy as np\n",
    "import matplotlib.pyplot as plt\n",
    "import seaborn as sns\n",
    "import decimal as d\n",
    "import math as mt\n",
    "import random"
   ]
  },
  {
   "cell_type": "markdown",
   "metadata": {},
   "source": [
    "# Processing the Sensor Data"
   ]
  },
  {
   "cell_type": "markdown",
   "metadata": {},
   "source": [
    "In this portion of the project we will load and observe the sensing data collected in our study"
   ]
  },
  {
   "cell_type": "code",
   "execution_count": 167,
   "metadata": {},
   "outputs": [
    {
     "data": {
      "text/plain": [
       "'/Users/mark/Desktop/GitHub/Modeling-Student-Stress/code/sensing_data/'"
      ]
     },
     "execution_count": 167,
     "metadata": {},
     "output_type": "execute_result"
    }
   ],
   "source": [
    "path =  os.getcwd() + '/sensing_data/'\n",
    "path"
   ]
  },
  {
   "cell_type": "code",
   "execution_count": 168,
   "metadata": {},
   "outputs": [
    {
     "data": {
      "text/plain": [
       "['activity', 'audio', 'conversation', 'gps']"
      ]
     },
     "execution_count": 168,
     "metadata": {},
     "output_type": "execute_result"
    }
   ],
   "source": [
    "files = os.listdir(path)[2:]\n",
    "files"
   ]
  },
  {
   "cell_type": "code",
   "execution_count": 169,
   "metadata": {},
   "outputs": [],
   "source": [
    "uids = np.array(['00', '01', '02', '03', '04', '05', '07', '08', '09', '10', '12',\n",
    "       '13', '14', '15', '16', '17', '18', '19', '20', '22', '23', '24',\n",
    "       '25', '27', '30', '31', '32', '33', '34', '35', '36', '39', '41',\n",
    "       '42', '43', '44', '45', '46', '47', '49', '50', '51', '52', '53',\n",
    "       '54', '56', '57', '58', '59'])"
   ]
  },
  {
   "cell_type": "code",
   "execution_count": 170,
   "metadata": {},
   "outputs": [],
   "source": [
    "def folder_to_df(name_of_folder):\n",
    "\n",
    "    # this finds our json files\n",
    "    path_to_csv = path + name_of_folder\n",
    "    csv_files = [csv for csv in os.listdir(path_to_csv) if csv.endswith('.csv')]\n",
    "    \n",
    "    #instantiate array for each student's responses\n",
    "    responses = pd.DataFrame()\n",
    "    \n",
    "    # we need both the csv and an index number so use enumerate()\n",
    "    for index, file_name in enumerate(csv_files):\n",
    "        \n",
    "        file_path = path_to_csv + '/' + file_name\n",
    "        user_df = pd.read_csv(file_path)\n",
    "        \n",
    "        #set index to user's id and reset index\n",
    "        user_df['uid'] = uids[index]\n",
    "        user_df.set_index('uid', inplace = True)\n",
    "        user_df.reset_index(inplace = True)\n",
    "        \n",
    "        responses = responses.append(user_df, sort = False)\n",
    "        \n",
    "    # return array of responses\n",
    "    return responses"
   ]
  },
  {
   "cell_type": "code",
   "execution_count": 171,
   "metadata": {},
   "outputs": [
    {
     "name": "stdout",
     "output_type": "stream",
     "text": [
      "CPU times: user 41.9 s, sys: 12.6 s, total: 54.5 s\n",
      "Wall time: 34 s\n"
     ]
    }
   ],
   "source": [
    "%%time\n",
    "act_df = folder_to_df('activity')\n",
    "act_df.head()"
   ]
  },
  {
   "cell_type": "code",
   "execution_count": 172,
   "metadata": {},
   "outputs": [
    {
     "name": "stdout",
     "output_type": "stream",
     "text": [
      "CPU times: user 2min 24s, sys: 1min 35s, total: 3min 59s\n",
      "Wall time: 3min 25s\n"
     ]
    }
   ],
   "source": [
    "%%time\n",
    "aud_df = folder_to_df('audio')\n",
    "aud_df.head()"
   ]
  },
  {
   "cell_type": "code",
   "execution_count": 173,
   "metadata": {},
   "outputs": [
    {
     "name": "stdout",
     "output_type": "stream",
     "text": [
      "The history saving thread hit an unexpected error (OperationalError('unable to open database file')).History will not be written to the database.\n",
      "CPU times: user 408 ms, sys: 432 ms, total: 841 ms\n",
      "Wall time: 1.14 s\n"
     ]
    }
   ],
   "source": [
    "%%time\n",
    "con_df = folder_to_df('conversation')\n",
    "con_df.head()"
   ]
  },
  {
   "cell_type": "code",
   "execution_count": 174,
   "metadata": {},
   "outputs": [
    {
     "name": "stdout",
     "output_type": "stream",
     "text": [
      "CPU times: user 5.19 s, sys: 805 ms, total: 5.99 s\n",
      "Wall time: 3.33 s\n"
     ]
    }
   ],
   "source": [
    "%%time\n",
    "gps_df = folder_to_df('gps')\n",
    "gps_df.head()"
   ]
  },
  {
   "cell_type": "markdown",
   "metadata": {},
   "source": [
    "Great, lets dig into each of these data sets."
   ]
  },
  {
   "cell_type": "markdown",
   "metadata": {},
   "source": [
    "### Activity Data\n",
    "- infered physical activity based on sensors in mobile device\n",
    "- values includes 0: stationary, 1: walking 2: running, 3: Unknown"
   ]
  },
  {
   "cell_type": "code",
   "execution_count": 175,
   "metadata": {},
   "outputs": [
    {
     "data": {
      "text/html": [
       "<div>\n",
       "<style scoped>\n",
       "    .dataframe tbody tr th:only-of-type {\n",
       "        vertical-align: middle;\n",
       "    }\n",
       "\n",
       "    .dataframe tbody tr th {\n",
       "        vertical-align: top;\n",
       "    }\n",
       "\n",
       "    .dataframe thead th {\n",
       "        text-align: right;\n",
       "    }\n",
       "</style>\n",
       "<table border=\"1\" class=\"dataframe\">\n",
       "  <thead>\n",
       "    <tr style=\"text-align: right;\">\n",
       "      <th></th>\n",
       "      <th>uid</th>\n",
       "      <th>timestamp</th>\n",
       "      <th>activity inference</th>\n",
       "    </tr>\n",
       "  </thead>\n",
       "  <tbody>\n",
       "    <tr>\n",
       "      <th>0</th>\n",
       "      <td>00</td>\n",
       "      <td>1364356801</td>\n",
       "      <td>0</td>\n",
       "    </tr>\n",
       "    <tr>\n",
       "      <th>1</th>\n",
       "      <td>00</td>\n",
       "      <td>1364356804</td>\n",
       "      <td>0</td>\n",
       "    </tr>\n",
       "    <tr>\n",
       "      <th>2</th>\n",
       "      <td>00</td>\n",
       "      <td>1364356807</td>\n",
       "      <td>0</td>\n",
       "    </tr>\n",
       "    <tr>\n",
       "      <th>3</th>\n",
       "      <td>00</td>\n",
       "      <td>1364356809</td>\n",
       "      <td>0</td>\n",
       "    </tr>\n",
       "    <tr>\n",
       "      <th>4</th>\n",
       "      <td>00</td>\n",
       "      <td>1364356992</td>\n",
       "      <td>0</td>\n",
       "    </tr>\n",
       "  </tbody>\n",
       "</table>\n",
       "</div>"
      ],
      "text/plain": [
       "  uid   timestamp   activity inference\n",
       "0  00  1364356801                    0\n",
       "1  00  1364356804                    0\n",
       "2  00  1364356807                    0\n",
       "3  00  1364356809                    0\n",
       "4  00  1364356992                    0"
      ]
     },
     "execution_count": 175,
     "metadata": {},
     "output_type": "execute_result"
    }
   ],
   "source": [
    "act_df.head()"
   ]
  },
  {
   "cell_type": "code",
   "execution_count": 176,
   "metadata": {},
   "outputs": [
    {
     "data": {
      "text/plain": [
       "22842191"
      ]
     },
     "execution_count": 176,
     "metadata": {},
     "output_type": "execute_result"
    }
   ],
   "source": [
    "len(act_df)"
   ]
  },
  {
   "cell_type": "code",
   "execution_count": 177,
   "metadata": {},
   "outputs": [
    {
     "data": {
      "text/html": [
       "<div>\n",
       "<style scoped>\n",
       "    .dataframe tbody tr th:only-of-type {\n",
       "        vertical-align: middle;\n",
       "    }\n",
       "\n",
       "    .dataframe tbody tr th {\n",
       "        vertical-align: top;\n",
       "    }\n",
       "\n",
       "    .dataframe thead th {\n",
       "        text-align: right;\n",
       "    }\n",
       "</style>\n",
       "<table border=\"1\" class=\"dataframe\">\n",
       "  <thead>\n",
       "    <tr style=\"text-align: right;\">\n",
       "      <th></th>\n",
       "      <th>uid</th>\n",
       "      <th>timestamp</th>\n",
       "      <th>activity inference</th>\n",
       "    </tr>\n",
       "  </thead>\n",
       "  <tbody>\n",
       "    <tr>\n",
       "      <th>0</th>\n",
       "      <td>00</td>\n",
       "      <td>1364356801</td>\n",
       "      <td>0</td>\n",
       "    </tr>\n",
       "    <tr>\n",
       "      <th>1</th>\n",
       "      <td>00</td>\n",
       "      <td>1364356804</td>\n",
       "      <td>0</td>\n",
       "    </tr>\n",
       "    <tr>\n",
       "      <th>2</th>\n",
       "      <td>00</td>\n",
       "      <td>1364356807</td>\n",
       "      <td>0</td>\n",
       "    </tr>\n",
       "    <tr>\n",
       "      <th>3</th>\n",
       "      <td>00</td>\n",
       "      <td>1364356809</td>\n",
       "      <td>0</td>\n",
       "    </tr>\n",
       "    <tr>\n",
       "      <th>4</th>\n",
       "      <td>00</td>\n",
       "      <td>1364356992</td>\n",
       "      <td>0</td>\n",
       "    </tr>\n",
       "  </tbody>\n",
       "</table>\n",
       "</div>"
      ],
      "text/plain": [
       "  uid   timestamp   activity inference\n",
       "0  00  1364356801                    0\n",
       "1  00  1364356804                    0\n",
       "2  00  1364356807                    0\n",
       "3  00  1364356809                    0\n",
       "4  00  1364356992                    0"
      ]
     },
     "execution_count": 177,
     "metadata": {},
     "output_type": "execute_result"
    }
   ],
   "source": [
    "act_df.head()"
   ]
  },
  {
   "cell_type": "markdown",
   "metadata": {},
   "source": [
    "Converting unix time stamp to datetime"
   ]
  },
  {
   "cell_type": "code",
   "execution_count": 178,
   "metadata": {},
   "outputs": [
    {
     "data": {
      "text/html": [
       "<div>\n",
       "<style scoped>\n",
       "    .dataframe tbody tr th:only-of-type {\n",
       "        vertical-align: middle;\n",
       "    }\n",
       "\n",
       "    .dataframe tbody tr th {\n",
       "        vertical-align: top;\n",
       "    }\n",
       "\n",
       "    .dataframe thead th {\n",
       "        text-align: right;\n",
       "    }\n",
       "</style>\n",
       "<table border=\"1\" class=\"dataframe\">\n",
       "  <thead>\n",
       "    <tr style=\"text-align: right;\">\n",
       "      <th></th>\n",
       "      <th>uid</th>\n",
       "      <th>activity inference</th>\n",
       "      <th>time</th>\n",
       "    </tr>\n",
       "  </thead>\n",
       "  <tbody>\n",
       "    <tr>\n",
       "      <th>0</th>\n",
       "      <td>00</td>\n",
       "      <td>0</td>\n",
       "      <td>2013-03-27 04:00:01</td>\n",
       "    </tr>\n",
       "    <tr>\n",
       "      <th>1</th>\n",
       "      <td>00</td>\n",
       "      <td>0</td>\n",
       "      <td>2013-03-27 04:00:04</td>\n",
       "    </tr>\n",
       "    <tr>\n",
       "      <th>2</th>\n",
       "      <td>00</td>\n",
       "      <td>0</td>\n",
       "      <td>2013-03-27 04:00:07</td>\n",
       "    </tr>\n",
       "    <tr>\n",
       "      <th>3</th>\n",
       "      <td>00</td>\n",
       "      <td>0</td>\n",
       "      <td>2013-03-27 04:00:09</td>\n",
       "    </tr>\n",
       "    <tr>\n",
       "      <th>4</th>\n",
       "      <td>00</td>\n",
       "      <td>0</td>\n",
       "      <td>2013-03-27 04:03:12</td>\n",
       "    </tr>\n",
       "  </tbody>\n",
       "</table>\n",
       "</div>"
      ],
      "text/plain": [
       "  uid   activity inference                time\n",
       "0  00                    0 2013-03-27 04:00:01\n",
       "1  00                    0 2013-03-27 04:00:04\n",
       "2  00                    0 2013-03-27 04:00:07\n",
       "3  00                    0 2013-03-27 04:00:09\n",
       "4  00                    0 2013-03-27 04:03:12"
      ]
     },
     "execution_count": 178,
     "metadata": {},
     "output_type": "execute_result"
    }
   ],
   "source": [
    "act_df['time'] = pd.to_datetime(act_df['timestamp'], unit = 's')\n",
    "act_df.drop(labels = ['timestamp'], axis = 1, inplace = True)\n",
    "act_df.head()"
   ]
  },
  {
   "cell_type": "markdown",
   "metadata": {},
   "source": [
    "Let us observe the overall distribution of activity during the day"
   ]
  },
  {
   "cell_type": "markdown",
   "metadata": {},
   "source": [
    "Adding extra time features:\n",
    "- Date\n",
    "- Hour\n",
    "- Day of week"
   ]
  },
  {
   "cell_type": "code",
   "execution_count": 179,
   "metadata": {},
   "outputs": [],
   "source": [
    "act_df['date'] = act_df['time'].dt.date\n",
    "act_df['weekday'] = act_df['time'].dt.dayofweek\n",
    "act_df['hour'] = act_df['time'].dt.hour"
   ]
  },
  {
   "cell_type": "code",
   "execution_count": 180,
   "metadata": {},
   "outputs": [],
   "source": [
    "act_copy = pd.DataFrame.copy(act_df)\n",
    "act_copy[' activity inference'] = act_copy[' activity inference'].astype('category')"
   ]
  },
  {
   "cell_type": "code",
   "execution_count": 181,
   "metadata": {},
   "outputs": [
    {
     "data": {
      "text/html": [
       "<div>\n",
       "<style scoped>\n",
       "    .dataframe tbody tr th:only-of-type {\n",
       "        vertical-align: middle;\n",
       "    }\n",
       "\n",
       "    .dataframe tbody tr th {\n",
       "        vertical-align: top;\n",
       "    }\n",
       "\n",
       "    .dataframe thead th {\n",
       "        text-align: right;\n",
       "    }\n",
       "</style>\n",
       "<table border=\"1\" class=\"dataframe\">\n",
       "  <thead>\n",
       "    <tr style=\"text-align: right;\">\n",
       "      <th></th>\n",
       "      <th>uid</th>\n",
       "      <th>time</th>\n",
       "      <th>date</th>\n",
       "      <th>weekday</th>\n",
       "      <th>hour</th>\n",
       "      <th>stationary</th>\n",
       "      <th>walking</th>\n",
       "      <th>running</th>\n",
       "      <th>other</th>\n",
       "    </tr>\n",
       "  </thead>\n",
       "  <tbody>\n",
       "    <tr>\n",
       "      <th>0</th>\n",
       "      <td>00</td>\n",
       "      <td>2013-03-27 04:00:01</td>\n",
       "      <td>2013-03-27</td>\n",
       "      <td>2</td>\n",
       "      <td>4</td>\n",
       "      <td>1</td>\n",
       "      <td>0</td>\n",
       "      <td>0</td>\n",
       "      <td>0</td>\n",
       "    </tr>\n",
       "    <tr>\n",
       "      <th>1</th>\n",
       "      <td>00</td>\n",
       "      <td>2013-03-27 04:00:04</td>\n",
       "      <td>2013-03-27</td>\n",
       "      <td>2</td>\n",
       "      <td>4</td>\n",
       "      <td>1</td>\n",
       "      <td>0</td>\n",
       "      <td>0</td>\n",
       "      <td>0</td>\n",
       "    </tr>\n",
       "    <tr>\n",
       "      <th>2</th>\n",
       "      <td>00</td>\n",
       "      <td>2013-03-27 04:00:07</td>\n",
       "      <td>2013-03-27</td>\n",
       "      <td>2</td>\n",
       "      <td>4</td>\n",
       "      <td>1</td>\n",
       "      <td>0</td>\n",
       "      <td>0</td>\n",
       "      <td>0</td>\n",
       "    </tr>\n",
       "    <tr>\n",
       "      <th>3</th>\n",
       "      <td>00</td>\n",
       "      <td>2013-03-27 04:00:09</td>\n",
       "      <td>2013-03-27</td>\n",
       "      <td>2</td>\n",
       "      <td>4</td>\n",
       "      <td>1</td>\n",
       "      <td>0</td>\n",
       "      <td>0</td>\n",
       "      <td>0</td>\n",
       "    </tr>\n",
       "    <tr>\n",
       "      <th>4</th>\n",
       "      <td>00</td>\n",
       "      <td>2013-03-27 04:03:12</td>\n",
       "      <td>2013-03-27</td>\n",
       "      <td>2</td>\n",
       "      <td>4</td>\n",
       "      <td>1</td>\n",
       "      <td>0</td>\n",
       "      <td>0</td>\n",
       "      <td>0</td>\n",
       "    </tr>\n",
       "  </tbody>\n",
       "</table>\n",
       "</div>"
      ],
      "text/plain": [
       "  uid                time        date  weekday  hour  stationary  walking  \\\n",
       "0  00 2013-03-27 04:00:01  2013-03-27        2     4           1        0   \n",
       "1  00 2013-03-27 04:00:04  2013-03-27        2     4           1        0   \n",
       "2  00 2013-03-27 04:00:07  2013-03-27        2     4           1        0   \n",
       "3  00 2013-03-27 04:00:09  2013-03-27        2     4           1        0   \n",
       "4  00 2013-03-27 04:03:12  2013-03-27        2     4           1        0   \n",
       "\n",
       "   running  other  \n",
       "0        0      0  \n",
       "1        0      0  \n",
       "2        0      0  \n",
       "3        0      0  \n",
       "4        0      0  "
      ]
     },
     "execution_count": 181,
     "metadata": {},
     "output_type": "execute_result"
    }
   ],
   "source": [
    "one_hot = pd.get_dummies(act_df,  columns = [' activity inference'])\n",
    "one_hot.columns = ['uid', 'time', 'date', 'weekday', 'hour', \n",
    "                   'stationary', 'walking', 'running', 'other']\n",
    "one_hot.head()"
   ]
  },
  {
   "cell_type": "code",
   "execution_count": 182,
   "metadata": {},
   "outputs": [
    {
     "data": {
      "text/html": [
       "<div>\n",
       "<style scoped>\n",
       "    .dataframe tbody tr th:only-of-type {\n",
       "        vertical-align: middle;\n",
       "    }\n",
       "\n",
       "    .dataframe tbody tr th {\n",
       "        vertical-align: top;\n",
       "    }\n",
       "\n",
       "    .dataframe thead th {\n",
       "        text-align: right;\n",
       "    }\n",
       "</style>\n",
       "<table border=\"1\" class=\"dataframe\">\n",
       "  <thead>\n",
       "    <tr style=\"text-align: right;\">\n",
       "      <th></th>\n",
       "      <th>weekday</th>\n",
       "      <th>stationary</th>\n",
       "      <th>walking</th>\n",
       "      <th>running</th>\n",
       "      <th>other</th>\n",
       "    </tr>\n",
       "    <tr>\n",
       "      <th>hour</th>\n",
       "      <th></th>\n",
       "      <th></th>\n",
       "      <th></th>\n",
       "      <th></th>\n",
       "      <th></th>\n",
       "    </tr>\n",
       "  </thead>\n",
       "  <tbody>\n",
       "    <tr>\n",
       "      <th>0</th>\n",
       "      <td>2.951508</td>\n",
       "      <td>0.886477</td>\n",
       "      <td>0.063982</td>\n",
       "      <td>0.013442</td>\n",
       "      <td>0.036100</td>\n",
       "    </tr>\n",
       "    <tr>\n",
       "      <th>1</th>\n",
       "      <td>2.942762</td>\n",
       "      <td>0.909202</td>\n",
       "      <td>0.050792</td>\n",
       "      <td>0.008821</td>\n",
       "      <td>0.031185</td>\n",
       "    </tr>\n",
       "    <tr>\n",
       "      <th>2</th>\n",
       "      <td>2.966288</td>\n",
       "      <td>0.927846</td>\n",
       "      <td>0.038851</td>\n",
       "      <td>0.007921</td>\n",
       "      <td>0.025382</td>\n",
       "    </tr>\n",
       "    <tr>\n",
       "      <th>3</th>\n",
       "      <td>2.970834</td>\n",
       "      <td>0.929566</td>\n",
       "      <td>0.040089</td>\n",
       "      <td>0.006663</td>\n",
       "      <td>0.023682</td>\n",
       "    </tr>\n",
       "    <tr>\n",
       "      <th>4</th>\n",
       "      <td>2.923675</td>\n",
       "      <td>0.936669</td>\n",
       "      <td>0.035247</td>\n",
       "      <td>0.005686</td>\n",
       "      <td>0.022397</td>\n",
       "    </tr>\n",
       "  </tbody>\n",
       "</table>\n",
       "</div>"
      ],
      "text/plain": [
       "       weekday  stationary   walking   running     other\n",
       "hour                                                    \n",
       "0     2.951508    0.886477  0.063982  0.013442  0.036100\n",
       "1     2.942762    0.909202  0.050792  0.008821  0.031185\n",
       "2     2.966288    0.927846  0.038851  0.007921  0.025382\n",
       "3     2.970834    0.929566  0.040089  0.006663  0.023682\n",
       "4     2.923675    0.936669  0.035247  0.005686  0.022397"
      ]
     },
     "execution_count": 182,
     "metadata": {},
     "output_type": "execute_result"
    }
   ],
   "source": [
    "by_hour = one_hot.groupby('hour').mean()\n",
    "by_hour.head()"
   ]
  },
  {
   "cell_type": "code",
   "execution_count": 188,
   "metadata": {},
   "outputs": [
    {
     "data": {
      "text/plain": [
       "<Figure size 720x720 with 0 Axes>"
      ]
     },
     "execution_count": 188,
     "metadata": {},
     "output_type": "execute_result"
    },
    {
     "data": {
      "text/plain": [
       "Text(0.5,1,'Proportion of Physical Activity by Hour of Day')"
      ]
     },
     "execution_count": 188,
     "metadata": {},
     "output_type": "execute_result"
    },
    {
     "data": {
      "text/plain": [
       "<matplotlib.legend.Legend at 0x1dc2ff44e0>"
      ]
     },
     "execution_count": 188,
     "metadata": {},
     "output_type": "execute_result"
    },
    {
     "data": {
      "text/plain": [
       "Text(0,0.5,'Proportion of activity')"
      ]
     },
     "execution_count": 188,
     "metadata": {},
     "output_type": "execute_result"
    },
    {
     "data": {
      "text/plain": [
       "([<matplotlib.axis.XTick at 0x1dc2f78f28>,\n",
       "  <matplotlib.axis.XTick at 0x1dc3059978>,\n",
       "  <matplotlib.axis.XTick at 0x1dc2fe5c50>,\n",
       "  <matplotlib.axis.XTick at 0x1dc2eeb3c8>,\n",
       "  <matplotlib.axis.XTick at 0x1dc2ef8160>,\n",
       "  <matplotlib.axis.XTick at 0x1dc2ef8550>,\n",
       "  <matplotlib.axis.XTick at 0x1dc2ef8a20>,\n",
       "  <matplotlib.axis.XTick at 0x1dc2ef8ef0>,\n",
       "  <matplotlib.axis.XTick at 0x1dc2efd400>,\n",
       "  <matplotlib.axis.XTick at 0x1dc2efd8d0>,\n",
       "  <matplotlib.axis.XTick at 0x1dc2efdda0>,\n",
       "  <matplotlib.axis.XTick at 0x1dc2f042b0>,\n",
       "  <matplotlib.axis.XTick at 0x1dc2efd4a8>,\n",
       "  <matplotlib.axis.XTick at 0x1dc2ef8518>,\n",
       "  <matplotlib.axis.XTick at 0x1dc2f04470>,\n",
       "  <matplotlib.axis.XTick at 0x1dc2f04a20>,\n",
       "  <matplotlib.axis.XTick at 0x1dc2f04ef0>,\n",
       "  <matplotlib.axis.XTick at 0x1dc2e8f400>,\n",
       "  <matplotlib.axis.XTick at 0x1dc2e8f8d0>,\n",
       "  <matplotlib.axis.XTick at 0x1dc2e8fda0>,\n",
       "  <matplotlib.axis.XTick at 0x1dc2e972b0>,\n",
       "  <matplotlib.axis.XTick at 0x1dc2e8f898>,\n",
       "  <matplotlib.axis.XTick at 0x1dc2f04ac8>,\n",
       "  <matplotlib.axis.XTick at 0x1dc2ef8978>,\n",
       "  <matplotlib.axis.XTick at 0x1dc2e97048>],\n",
       " <a list of 25 Text xticklabel objects>)"
      ]
     },
     "execution_count": 188,
     "metadata": {},
     "output_type": "execute_result"
    },
    {
     "data": {
      "text/plain": [
       "Text(0.5,0,'Hour')"
      ]
     },
     "execution_count": 188,
     "metadata": {},
     "output_type": "execute_result"
    },
    {
     "data": {
      "image/png": "[encoded data removed]",
      "text/plain": [
       "<Figure size 720x720 with 1 Axes>"
      ]
     },
     "metadata": {
      "needs_background": "light"
     },
     "output_type": "display_data"
    }
   ],
   "source": [
    "x = by_hour.index.values\n",
    "y1 = by_hour.iloc[:,1]\n",
    "y2 = by_hour.iloc[:,2]\n",
    "y3 = by_hour.iloc[:,3]\n",
    "y4 = by_hour.iloc[:,4]\n",
    "\n",
    "plt.figure(figsize=(10, 10))\n",
    "plot1 = sns.lineplot(x,y1, color = 'g', label = 'stationary')\n",
    "plot2 = sns.lineplot(x,y2, color = 'orange', label = 'walking')\n",
    "plot4 = sns.lineplot(x,y4, color = 'blue', label = 'other')\n",
    "plot3 = sns.lineplot(x,y3, color = 'red', label = 'running')\n",
    "plt.title('Proportion of Physical Activity by Hour of Day')\n",
    "plt.legend()\n",
    "plt.ylabel('Proportion of activity')\n",
    "plt.xticks(np.arange(0, 25, 1))\n",
    "plt.xlabel('Hour')\n",
    "plt.grid()\n",
    "plt.show()"
   ]
  },
  {
   "cell_type": "markdown",
   "metadata": {},
   "source": [
    "Seems for most the day the students are stationary, which makes sense given sleep, attending lectures, eating, and studying. Lets find out what times students are the most active."
   ]
  },
  {
   "cell_type": "markdown",
   "metadata": {},
   "source": [
    "Which hour of the day are students most active on average?"
   ]
  },
  {
   "cell_type": "code",
   "execution_count": 184,
   "metadata": {},
   "outputs": [],
   "source": [
    "by_hour_act = act_df.groupby('hour').mean()"
   ]
  },
  {
   "cell_type": "code",
   "execution_count": 185,
   "metadata": {},
   "outputs": [
    {
     "data": {
      "text/plain": [
       "<Figure size 720x360 with 0 Axes>"
      ]
     },
     "execution_count": 185,
     "metadata": {},
     "output_type": "execute_result"
    },
    {
     "data": {
      "text/plain": [
       "([<matplotlib.axis.XTick at 0x1dc3165c88>,\n",
       "  <matplotlib.axis.XTick at 0x1dc31542b0>,\n",
       "  <matplotlib.axis.XTick at 0x1c841987b8>,\n",
       "  <matplotlib.axis.XTick at 0x1dc31231d0>,\n",
       "  <matplotlib.axis.XTick at 0x1dc3123780>,\n",
       "  <matplotlib.axis.XTick at 0x1dc312b358>,\n",
       "  <matplotlib.axis.XTick at 0x1dc312b828>,\n",
       "  <matplotlib.axis.XTick at 0x1dc316fc88>,\n",
       "  <matplotlib.axis.XTick at 0x1dc3117d68>,\n",
       "  <matplotlib.axis.XTick at 0x1dc312b908>,\n",
       "  <matplotlib.axis.XTick at 0x1dc312bda0>,\n",
       "  <matplotlib.axis.XTick at 0x1dc31322b0>,\n",
       "  <matplotlib.axis.XTick at 0x1dc3132780>,\n",
       "  <matplotlib.axis.XTick at 0x1dc3132c50>,\n",
       "  <matplotlib.axis.XTick at 0x1dc313a198>,\n",
       "  <matplotlib.axis.XTick at 0x1dc313a630>,\n",
       "  <matplotlib.axis.XTick at 0x1dc313ab00>,\n",
       "  <matplotlib.axis.XTick at 0x1dc313ad30>,\n",
       "  <matplotlib.axis.XTick at 0x1dc313a588>,\n",
       "  <matplotlib.axis.XTick at 0x1dc3132358>,\n",
       "  <matplotlib.axis.XTick at 0x1dc3117dd8>,\n",
       "  <matplotlib.axis.XTick at 0x1dc3142550>,\n",
       "  <matplotlib.axis.XTick at 0x1dc3142a20>,\n",
       "  <matplotlib.axis.XTick at 0x1dc3142ef0>,\n",
       "  <matplotlib.axis.XTick at 0x1dc30cb400>],\n",
       " <a list of 25 Text xticklabel objects>)"
      ]
     },
     "execution_count": 185,
     "metadata": {},
     "output_type": "execute_result"
    },
    {
     "data": {
      "image/png": "[encoded data removed]",
      "text/plain": [
       "<Figure size 720x360 with 1 Axes>"
      ]
     },
     "metadata": {
      "needs_background": "light"
     },
     "output_type": "display_data"
    }
   ],
   "source": [
    "plt.figure(figsize=(10, 5))\n",
    "y = by_hour_act.iloc[:,0].values\n",
    "plot_hour = sns.lineplot(by_hour_act.index,y, )\n",
    "plt.xticks(np.arange(0, 25, step=1))\n",
    "plt.grid()\n",
    "plt.show()"
   ]
  },
  {
   "cell_type": "markdown",
   "metadata": {},
   "source": [
    "Interesting, average physical activity seems to peak around 5pm, dips around 8pm, and then hits a smaller peak around 10pm. We notice a minimum of average activity around 8am, which may be explained by sleep schedules, although 8am seems a bit late."
   ]
  },
  {
   "cell_type": "markdown",
   "metadata": {},
   "source": []
  }
 ],
 "metadata": {
  "kernelspec": {
   "display_name": "Python 3",
   "language": "python",
   "name": "python3"
  },
  "language_info": {
   "codemirror_mode": {
    "name": "ipython",
    "version": 3
   },
   "file_extension": ".py",
   "mimetype": "text/x-python",
   "name": "python",
   "nbconvert_exporter": "python",
   "pygments_lexer": "ipython3",
   "version": "3.7.2"
  }
 },
 "nbformat": 4,
 "nbformat_minor": 2
}
